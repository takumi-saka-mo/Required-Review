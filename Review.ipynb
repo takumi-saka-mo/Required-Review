{
 "cells": [
  {
   "cell_type": "markdown",
   "metadata": {},
   "source": [
    "# 追加レビュー件数の最小化問題\n",
    "[![Open In Colab](https://colab.research.google.com/assets/colab-badge.svg)](https://colab.research.google.com/github/takumi-saka-mo/Required-Review/blob/main/Review.ipynb)\n",
    "\n",
    "## 問題\n",
    "\n",
    "上司から, 「Googleの平均口コミ評価を上げてくれ」との指示が出た.<br>\n",
    "<br>\n",
    "私は, あと何件のレビューを獲得することができれば, 目標を達成することができるだろうか.\n",
    "\n",
    "\n",
    "## 設定\n",
    "- 現在のレビュー件数 : n (n > 0)\n",
    "- 現在の平均口コミ評価 : m (1 ≤ m < 5)\n",
    "- 目標平均口コミ評価 : M (M > m)\n",
    "- 追加レビューはすべて星5と仮定\n",
    "- 追加レビュー件数をxとする ← 今回求める\n",
    "\n",
    "\n",
    "## モデル\n",
    "追加レビュー件数最小化の式は次のようになる. (README.mdを参照)<br>\n",
    "\n",
    "$$\n",
    "\\frac{mn + 5x}{n + x} \\geq\tM\n",
    "$$\n",
    "\n",
    "xについて解くと,\n",
    "\n",
    "$$\n",
    "x \\geq\t\\frac{n(M - m)}{5 - M}\n",
    "$$\n"
   ]
  },
  {
   "cell_type": "markdown",
   "metadata": {},
   "source": [
    "## 追加レビュー件数の最小化問題\n",
    "\n",
    "Google Mapに記載の平均口コミ評価の値を用いて計算.<br>"
   ]
  },
  {
   "cell_type": "code",
   "execution_count": null,
   "metadata": {},
   "outputs": [],
   "source": [
    "# 必要追加レビュー件数を計算する関数\n",
    "import math\n",
    "\n",
    "def required_reviews(n, m, M):\n",
    "    \"\"\"\n",
    "    <必要追加レビュー件数を計算>\n",
    "    [In]\n",
    "      n : 現在のレビュー件数\n",
    "      m : 現在の平均口コミ評価\n",
    "      M : 目標平均口コミ評価 (m < M < 5)\n",
    "    [Out]\n",
    "      必要な追加レビュー件数(整数へ丸め込む)\n",
    "    \"\"\"\n",
    "    if M <= m:\n",
    "        print(\"目標評価 M は現在の平均評価 m より大きくなければなりません。\")\n",
    "        return None\n",
    "    elif M >= 5:\n",
    "        print(\"目標評価 M は5未満でなければなりません。\")\n",
    "        return None\n",
    "    else:\n",
    "        x = math.ceil(n * (M - m) / (5 - M)) # xは整数のため, 結果の切り上げ整数\n",
    "    return x"
   ]
  },
  {
   "cell_type": "code",
   "execution_count": null,
   "metadata": {},
   "outputs": [],
   "source": [
    "# 条件の受け取り & 結果の出力\n",
    "n = int(input(\"現在のレビュー件数 : \"))\n",
    "m = float(input(\"現在の平均口コミ評価 : \"))\n",
    "M = float(input(\"目標平均口コミ評価 : \"))\n",
    "\n",
    "result = required_reviews(n, m, M)\n",
    "if result is not None:\n",
    "    print(f\"必要な追加レビュー(星5)件数: {result} 件\")"
   ]
  },
  {
   "cell_type": "markdown",
   "metadata": {},
   "source": [
    "## 誤差の考慮\n",
    "\n",
    "Google Mapに記載の平均口コミ評価(☆の数の平均値)は, 全件数の平均値の小数第二位の値を四捨五入して計算している.<br>\n",
    "実際の真の平均値と表示される値との間には, 最大で ±0.005 の誤差が生じる可能性がある.<br>\n",
    "すなわち, 実際の平均口コミ評価は, 真の平均口コミ評価の値と乖離があり, 星ごとの件数を取得する必要がある.\n"
   ]
  },
  {
   "cell_type": "code",
   "execution_count": null,
   "metadata": {},
   "outputs": [],
   "source": [
    "# Google Mapの口コミページから, 星ごとの件数を取得\n",
    "\n",
    "## [In]対象店舗 [Out]星ごとの件数をまとめたデータフレーム or 真の平均評価\n",
    "\n",
    "from bs4 import BeautifulSoup\n",
    "\n"
   ]
  }
 ],
 "metadata": {
  "kernelspec": {
   "display_name": "3.12.1",
   "language": "python",
   "name": "python3"
  },
  "language_info": {
   "codemirror_mode": {
    "name": "ipython",
    "version": 3
   },
   "file_extension": ".py",
   "mimetype": "text/x-python",
   "name": "python",
   "nbconvert_exporter": "python",
   "pygments_lexer": "ipython3",
   "version": "3.12.1"
  }
 },
 "nbformat": 4,
 "nbformat_minor": 2
}
